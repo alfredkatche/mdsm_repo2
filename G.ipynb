{
 "cells": [
  {
   "cell_type": "code",
   "execution_count": 1,
   "id": "826d0f05-75a0-4a2d-af2d-3c7e270ef7a8",
   "metadata": {},
   "outputs": [],
   "source": [
    "import numpy as np"
   ]
  },
  {
   "cell_type": "code",
   "execution_count": null,
   "id": "cc7cdba7-e03c-4835-96a9-b2596518f67a",
   "metadata": {},
   "outputs": [],
   "source": [
    "print(np.arange(start=1,stop=12,step=3))"
   ]
  },
  {
   "cell_type": "code",
   "execution_count": null,
   "id": "688b4341-c24a-487d-b0c6-fde18e67803d",
   "metadata": {},
   "outputs": [],
   "source": [
    "print(np.arange(start=1,stop=112,step=3))"
   ]
  },
  {
   "cell_type": "code",
   "execution_count": null,
   "id": "cb8d18ed-4088-4782-a4d1-5f9c1a6d4eba",
   "metadata": {},
   "outputs": [],
   "source": [
    "6*3\n",
    "1*2"
   ]
  },
  {
   "cell_type": "code",
   "execution_count": null,
   "id": "c90be441-3459-4812-8b5d-11817370512e",
   "metadata": {},
   "outputs": [],
   "source": []
  }
 ],
 "metadata": {
  "kernelspec": {
   "display_name": "my_en_3_10",
   "language": "python",
   "name": "my_en_3_10"
  },
  "language_info": {
   "codemirror_mode": {
    "name": "ipython",
    "version": 3
   },
   "file_extension": ".py",
   "mimetype": "text/x-python",
   "name": "python",
   "nbconvert_exporter": "python",
   "pygments_lexer": "ipython3",
   "version": "3.10.13"
  }
 },
 "nbformat": 4,
 "nbformat_minor": 5
}
